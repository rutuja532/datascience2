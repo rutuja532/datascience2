{
 "cells": [
  {
   "cell_type": "markdown",
   "id": "fc6d14ce-fc3f-4c45-b4b8-da92c9535899",
   "metadata": {},
   "source": [
    "NAME :rutuja badkas\n",
    "BRANCH: co\n",
    "ASSIGNMENT_2"
   ]
  },
  {
   "cell_type": "markdown",
   "id": "76061a67-3071-4046-a66b-b4e7cb745894",
   "metadata": {},
   "source": [
    "LIST"
   ]
  },
  {
   "cell_type": "code",
   "execution_count": 4,
   "id": "145d3105-8970-464b-952c-588ef06e30ee",
   "metadata": {},
   "outputs": [
    {
     "name": "stdout",
     "output_type": "stream",
     "text": [
      "[1, 2, 3, 4, 5, 6, 7, 8, 9]\n"
     ]
    }
   ],
   "source": [
    "l=[1,2,3,4,5,6,7,8,9]\n",
    "print(l)"
   ]
  },
  {
   "cell_type": "code",
   "execution_count": 8,
   "id": "e32a75ad-78b2-497b-a27a-2833abe73b12",
   "metadata": {},
   "outputs": [
    {
     "name": "stdout",
     "output_type": "stream",
     "text": [
      "[1, 2, 3, 4, 5, 50, 7, 8, 9]\n"
     ]
    }
   ],
   "source": [
    "l[5]=50\n",
    "print(l)"
   ]
  },
  {
   "cell_type": "markdown",
   "id": "cb49220f-3fef-4db8-8615-09267bf8ec23",
   "metadata": {},
   "source": [
    "TUPLE\n"
   ]
  },
  {
   "cell_type": "code",
   "execution_count": 10,
   "id": "63c96895-0be5-4e81-bc4b-ad0613b9b104",
   "metadata": {},
   "outputs": [],
   "source": [
    "my_tuple=(23,74,42,19,90)\n"
   ]
  },
  {
   "cell_type": "code",
   "execution_count": 11,
   "id": "2a4f0d32-3ff8-4830-8482-1800b04dc6cf",
   "metadata": {},
   "outputs": [
    {
     "name": "stdout",
     "output_type": "stream",
     "text": [
      "(23, 74, 42, 19, 90)\n"
     ]
    }
   ],
   "source": [
    "print(my_tuple)"
   ]
  },
  {
   "cell_type": "code",
   "execution_count": 1,
   "id": "229e1413-abc1-4f4f-9767-08a0829e1f42",
   "metadata": {},
   "outputs": [
    {
     "name": "stdout",
     "output_type": "stream",
     "text": [
      "develop\n",
      "18\n",
      "python\n"
     ]
    }
   ],
   "source": [
    "p=(\"develop\",18,\"python\")\n",
    "name,age,sub=p \n",
    "print(name)\n",
    "print(age)\n",
    "print(sub)"
   ]
  },
  {
   "cell_type": "markdown",
   "id": "668e7c46-6761-4f4f-97f9-906e5c43d46f",
   "metadata": {},
   "source": [
    "SETS"
   ]
  },
  {
   "cell_type": "code",
   "execution_count": 20,
   "id": "137f7126-8227-4c4b-a31c-92642c24c3a3",
   "metadata": {},
   "outputs": [],
   "source": [
    "s={}"
   ]
  },
  {
   "cell_type": "code",
   "execution_count": 21,
   "id": "244cb901-c359-4b90-9e34-494e301acc0e",
   "metadata": {},
   "outputs": [],
   "source": [
    "empty_set=set()"
   ]
  },
  {
   "cell_type": "code",
   "execution_count": 22,
   "id": "894bd2f2-be4e-4641-9e0e-2c931129349c",
   "metadata": {},
   "outputs": [
    {
     "name": "stdout",
     "output_type": "stream",
     "text": [
      "{}\n"
     ]
    }
   ],
   "source": [
    "print(s)"
   ]
  },
  {
   "cell_type": "code",
   "execution_count": 23,
   "id": "ccd994c3-e413-48b5-8fa7-9ae65566974e",
   "metadata": {},
   "outputs": [],
   "source": [
    "numbers={1,2,3,4,5,6,}"
   ]
  },
  {
   "cell_type": "code",
   "execution_count": 24,
   "id": "cdd879bb-ecf5-4ae7-a475-5c55578de18b",
   "metadata": {},
   "outputs": [],
   "source": [
    "mixed_set={2,\"Rutuja\",4,17,True}"
   ]
  },
  {
   "cell_type": "code",
   "execution_count": 25,
   "id": "4751b135-0166-47e6-8f24-2488975a3bce",
   "metadata": {},
   "outputs": [
    {
     "name": "stdout",
     "output_type": "stream",
     "text": [
      "{1, 2, 3, 4, 5, 6}\n"
     ]
    }
   ],
   "source": [
    "print(numbers)"
   ]
  },
  {
   "cell_type": "code",
   "execution_count": 26,
   "id": "f2ef7682-12f0-4459-8ca6-433db4cfcfdb",
   "metadata": {},
   "outputs": [
    {
     "name": "stdout",
     "output_type": "stream",
     "text": [
      "{True, 2, 17, 4, 'Rutuja'}\n"
     ]
    }
   ],
   "source": [
    "print(mixed_set)"
   ]
  }
 ],
 "metadata": {
  "kernelspec": {
   "display_name": "Python [conda env:base] *",
   "language": "python",
   "name": "conda-base-py"
  },
  "language_info": {
   "codemirror_mode": {
    "name": "ipython",
    "version": 3
   },
   "file_extension": ".py",
   "mimetype": "text/x-python",
   "name": "python",
   "nbconvert_exporter": "python",
   "pygments_lexer": "ipython3",
   "version": "3.13.5"
  }
 },
 "nbformat": 4,
 "nbformat_minor": 5
}
