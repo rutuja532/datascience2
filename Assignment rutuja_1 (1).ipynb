{
 "cells": [
  {
   "cell_type": "markdown",
   "id": "4d34cba7-665e-4554-b791-f7a7d908e8a7",
   "metadata": {},
   "source": [
    "NAME:RUTUJA BADKAS"
   ]
  },
  {
   "cell_type": "markdown",
   "id": "1ac1e44a-918b-470a-8903-ede31f12195c",
   "metadata": {},
   "source": [
    "CO|| ASSIGNMENT 1"
   ]
  },
  {
   "cell_type": "code",
   "execution_count": 2,
   "id": "e006c4d9-dc7d-4061-a6f9-403b3c92248c",
   "metadata": {},
   "outputs": [
    {
     "name": "stdout",
     "output_type": "stream",
     "text": [
      "Hello bro\n"
     ]
    }
   ],
   "source": [
    "#Strip Function\n",
    "text = '  Hello bro  '\n",
    "print(text.strip())"
   ]
  },
  {
   "cell_type": "code",
   "execution_count": 3,
   "id": "5ee0fcf5-8400-4c30-95fb-2f913f6b85e1",
   "metadata": {},
   "outputs": [
    {
     "name": "stdout",
     "output_type": "stream",
     "text": [
      "['c', 'c++', 'python', 'java']\n"
     ]
    }
   ],
   "source": [
    "#Split Function\n",
    "text = \"c,c++,python,java\"\n",
    "print(text.split(\",\"))"
   ]
  },
  {
   "cell_type": "code",
   "execution_count": 4,
   "id": "c0fb6b53-377b-43e1-b988-cde2b3e38952",
   "metadata": {},
   "outputs": [
    {
     "name": "stdout",
     "output_type": "stream",
     "text": [
      "Python\n"
     ]
    }
   ],
   "source": [
    "#Replace Function\n",
    "text = 'python'\n",
    "print(text.replace(\"p\",\"P\"))"
   ]
  },
  {
   "cell_type": "code",
   "execution_count": 24,
   "id": "591f25e9-53ee-47a5-a854-53812cee1026",
   "metadata": {},
   "outputs": [
    {
     "name": "stdout",
     "output_type": "stream",
     "text": [
      "One-Two-Three-Four-Five\n"
     ]
    }
   ],
   "source": [
    "#Join Function\n",
    "text = \"One\",\"Two\",\"Three\",\"Four\",\"Five\"\n",
    "print(\"-\".join(text))\n"
   ]
  },
  {
   "cell_type": "code",
   "execution_count": 6,
   "id": "e177c105-2096-496f-87c9-70ab30896ea6",
   "metadata": {},
   "outputs": [
    {
     "name": "stdout",
     "output_type": "stream",
     "text": [
      "7\n"
     ]
    }
   ],
   "source": [
    "#Find Function\n",
    "Text = \"PYTHON DEVELOPER\"\n",
    "print(Text.find(\"DEVELOPER\"))"
   ]
  },
  {
   "cell_type": "code",
   "execution_count": 26,
   "id": "a2c4ab30-9e2c-4f4e-b14f-c6ba8f254876",
   "metadata": {},
   "outputs": [
    {
     "name": "stdout",
     "output_type": "stream",
     "text": [
      "True\n"
     ]
    }
   ],
   "source": [
    "#Startswith Function\n",
    "Text = \"Hello\"\n",
    "print(Text.startswith(\"He\"))"
   ]
  },
  {
   "cell_type": "code",
   "execution_count": 27,
   "id": "98b0f575-258c-4695-8aef-d235aea6557a",
   "metadata": {},
   "outputs": [
    {
     "name": "stdout",
     "output_type": "stream",
     "text": [
      "True\n"
     ]
    }
   ],
   "source": [
    "#Endswith Function\n",
    "Text = \"World\"\n",
    "print(Text.endswith(\"ld\"))"
   ]
  },
  {
   "cell_type": "code",
   "execution_count": 28,
   "id": "f4a426da-3677-4d69-b48a-885099112e4b",
   "metadata": {},
   "outputs": [
    {
     "name": "stdout",
     "output_type": "stream",
     "text": [
      "True\n"
     ]
    }
   ],
   "source": [
    "#Isalpha Function\n",
    "Text = \"HelloWorld\"\n",
    "print(Text.isalpha())"
   ]
  },
  {
   "cell_type": "code",
   "execution_count": 29,
   "id": "90199a64-2b6a-4d06-8012-9988dea27abc",
   "metadata": {},
   "outputs": [
    {
     "name": "stdout",
     "output_type": "stream",
     "text": [
      "True\n"
     ]
    }
   ],
   "source": [
    "#Isdigit Function\n",
    "Digits = \"123456\"\n",
    "print(Digits.isdigit())"
   ]
  },
  {
   "cell_type": "code",
   "execution_count": 30,
   "id": "4baa0386-fadc-44f3-a75b-8461c9f53502",
   "metadata": {},
   "outputs": [
    {
     "name": "stdout",
     "output_type": "stream",
     "text": [
      "Hello World\n"
     ]
    }
   ],
   "source": [
    "#Title Function\n",
    "Text = \"Hello World\"\n",
    "print(Text.title())"
   ]
  },
  {
   "cell_type": "code",
   "execution_count": 7,
   "id": "0d43f5d7-04e5-4a0f-a152-81ca26456d9b",
   "metadata": {},
   "outputs": [
    {
     "name": "stdout",
     "output_type": "stream",
     "text": [
      "a & b = 4\n",
      "a | b = 20\n",
      "a ^ b = 16\n",
      "~a = -21\n",
      "a << 1 = 40\n",
      "a >> 1 = 10\n"
     ]
    }
   ],
   "source": [
    "#BITWISE OPERATORS\n",
    "\n",
    "a = 20\n",
    "b = 4\n",
    "\n",
    "print(\"a & b =\", a & b)       # AND\n",
    "print(\"a | b =\", a | b)       # OR\n",
    "print(\"a ^ b =\", a ^ b)       # XOR\n",
    "print(\"~a =\", ~a)             # NOT\n",
    "print(\"a << 1 =\", a << 1)     # Left Shift\n",
    "print(\"a >> 1 =\", a >> 1)     # Right Shift"
   ]
  },
  {
   "cell_type": "code",
   "execution_count": 33,
   "id": "63d59ac0-a561-4171-b21a-4d99430f7660",
   "metadata": {},
   "outputs": [
    {
     "name": "stdout",
     "output_type": "stream",
     "text": [
      "Initial x = 24\n",
      "x += 5: 26\n",
      "x -= 3: 22\n",
      "x *= 2: 110\n",
      "x /= 4: 18.333333333333332\n",
      "x %= 5: 0.33333333333333215\n",
      "x //= 3: 5\n",
      "x **= 2: 125\n",
      "x &= 3: 0\n",
      "x |= 8: 9\n",
      "x ^= 2: 10\n",
      "x <<= 1: 20\n",
      "x >>= 2: 2\n"
     ]
    }
   ],
   "source": [
    "#ASSIGNMENT OPERATOR\n",
    "\n",
    "x = 24\n",
    "print(\"Initial x =\", x)     #Simple Assignment\n",
    "\n",
    "\n",
    "x += 2\n",
    "print(\"x += 5:\", x)     #Add And Assign\n",
    "x -= 4\n",
    "print(\"x -= 3:\", x)     #Substract and Assign\n",
    "\n",
    "x *= 5\n",
    "print(\"x *= 2:\", x)     #Multiply and Assign\n",
    "\n",
    "x /= 6\n",
    "print(\"x /= 4:\", x)     #Divide and Assign\n",
    "\n",
    "x %= 6\n",
    "print(\"x %= 5:\", x)     #Modulus ans Assign\n",
    "\n",
    "x = 11\n",
    "x //= 2\n",
    "print(\"x //= 3:\", x)    #Floor Divide and Assign\n",
    "\n",
    "x **= 3\n",
    "print(\"x **= 2:\", x)    #Exponent and Assign\n",
    "\n",
    "x = 8\n",
    "x &= 4\n",
    "print(\"x &= 3:\", x)     #Bitwsise AND and Assign\n",
    "\n",
    "x |= 9\n",
    "print(\"x |= 8:\", x)     #Bitwise OR and Assign\n",
    "\n",
    "x ^= 3\n",
    "print(\"x ^= 2:\", x)     #Bitwsie XOR and Assign\n",
    "\n",
    "x <<= 1\n",
    "print(\"x <<= 1:\", x)    #Left Shift and Assign\n",
    "\n",
    "x >>= 3\n",
    "print(\"x >>= 2:\", x)    #Right Shift and Assign\n"
   ]
  },
  {
   "cell_type": "code",
   "execution_count": null,
   "id": "cbf4abbc-faf2-42c8-9ba4-cf969726cd80",
   "metadata": {},
   "outputs": [],
   "source": [
    "# file Operator"
   ]
  },
  {
   "cell_type": "code",
   "execution_count": null,
   "id": "65ee975a-7dc7-4ed8-a627-dbe45848d802",
   "metadata": {},
   "outputs": [
    {
     "name": "stdout",
     "output_type": "stream",
     "text": [
      "['Hello World']\n"
     ]
    }
   ],
   "source": [
    "# readlines\n",
    "\n",
    "file = open(\"file.txt\", \"r\")\n",
    "line = file.readlines()  #data read in list\n",
    "print(line)\n",
    "file.close()\n"
   ]
  },
  {
   "cell_type": "code",
   "execution_count": 39,
   "id": "9e94ab72-d124-44c1-a9b8-be111ec193de",
   "metadata": {},
   "outputs": [
    {
     "name": "stdout",
     "output_type": "stream",
     "text": [
      "Write Successfuly\n"
     ]
    }
   ],
   "source": [
    "# Write()\n",
    "\n",
    "file = open(\"file.txt\", \"w\")\n",
    "file.write(\"Concept Simplified\\n\")\n",
    "print(\"Write Successfuly\")\n",
    "file.close()"
   ]
  },
  {
   "cell_type": "code",
   "execution_count": 42,
   "id": "8019333a-6517-49f5-8d40-0bb3eddeb50a",
   "metadata": {},
   "outputs": [
    {
     "name": "stdout",
     "output_type": "stream",
     "text": [
      "Line added\n"
     ]
    }
   ],
   "source": [
    "# Append()\n",
    "\n",
    "file = open(\"file.txt\", \"a\")\n",
    "file.write(\"Hello is add in append mode\")\n",
    "print(\"Line added\")\n",
    "file.close()"
   ]
  }
 ],
 "metadata": {
  "kernelspec": {
   "display_name": "Python [conda env:base] *",
   "language": "python",
   "name": "conda-base-py"
  },
  "language_info": {
   "codemirror_mode": {
    "name": "ipython",
    "version": 3
   },
   "file_extension": ".py",
   "mimetype": "text/x-python",
   "name": "python",
   "nbconvert_exporter": "python",
   "pygments_lexer": "ipython3",
   "version": "3.13.5"
  }
 },
 "nbformat": 4,
 "nbformat_minor": 5
}
